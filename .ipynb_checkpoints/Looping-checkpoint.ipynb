{
 "cells": [
  {
   "cell_type": "markdown",
   "metadata": {},
   "source": [
    "# Looping"
   ]
  },
  {
   "cell_type": "markdown",
   "metadata": {},
   "source": [
    "## For Loops"
   ]
  },
  {
   "cell_type": "code",
   "execution_count": 4,
   "metadata": {},
   "outputs": [
    {
     "name": "stdout",
     "output_type": "stream",
     "text": [
      "Gunayahana\n",
      "Komang\n",
      "Bram\n",
      "Oka\n"
     ]
    }
   ],
   "source": [
    "my_friends = ['Gunayahana', 'Komang', 'Bram', 'Oka']\n",
    "for i in my_friends:\n",
    "    print(i)"
   ]
  },
  {
   "cell_type": "code",
   "execution_count": 6,
   "metadata": {},
   "outputs": [
    {
     "name": "stdout",
     "output_type": "stream",
     "text": [
      "0\n",
      "1 is not an even number!\n",
      "2\n",
      "3 is not an even number!\n",
      "4\n",
      "5 is not an even number!\n",
      "6\n",
      "7 is not an even number!\n",
      "8\n",
      "9 is not an even number!\n"
     ]
    }
   ],
   "source": [
    "my_number = [0, 1, 2, 3, 4, 5, 6, 7, 8, 9]\n",
    "\n",
    "for num in my_number:\n",
    "    if num % 2 == 0:\n",
    "        print(num)\n",
    "    else:\n",
    "        print(f'{num} is not an even number!')"
   ]
  },
  {
   "cell_type": "code",
   "execution_count": 7,
   "metadata": {},
   "outputs": [
    {
     "name": "stdout",
     "output_type": "stream",
     "text": [
      "m\n",
      "a\n",
      "k\n",
      "a\n",
      "n\n"
     ]
    }
   ],
   "source": [
    "for huruf in 'makan':\n",
    "    print(huruf)"
   ]
  },
  {
   "cell_type": "code",
   "execution_count": 10,
   "metadata": {},
   "outputs": [
    {
     "name": "stdout",
     "output_type": "stream",
     "text": [
      "Huruf ditemukan!\n",
      "Huruf ditemukan!\n",
      "Huruf ditemukan!\n",
      "Huruf ditemukan!\n",
      "Huruf ditemukan!\n"
     ]
    }
   ],
   "source": [
    "# perulangan for tanpa variabel iterasi\n",
    "for _ in 'Makan':\n",
    "    print('Huruf ditemukan!')"
   ]
  },
  {
   "cell_type": "code",
   "execution_count": 12,
   "metadata": {},
   "outputs": [
    {
     "name": "stdout",
     "output_type": "stream",
     "text": [
      "1\n",
      "2\n",
      "3\n",
      "4\n"
     ]
    }
   ],
   "source": [
    "# unpack tuples\n",
    "my_item = [(1, 2), (3, 4)]\n",
    "for a,b in my_item:\n",
    "    print(a)\n",
    "    print(b)"
   ]
  },
  {
   "cell_type": "code",
   "execution_count": 28,
   "metadata": {},
   "outputs": [
    {
     "name": "stdout",
     "output_type": "stream",
     "text": [
      "harden\n",
      "lebron\n"
     ]
    }
   ],
   "source": [
    "# Unpack dictionary\n",
    "my_dict = {'james':'harden', 'king':'lebron'}\n",
    "for a,b in my_dict.items():\n",
    "        print(b)\n"
   ]
  },
  {
   "cell_type": "code",
   "execution_count": 27,
   "metadata": {},
   "outputs": [
    {
     "name": "stdout",
     "output_type": "stream",
     "text": [
      "harden\n",
      "lebron\n"
     ]
    }
   ],
   "source": [
    "# Unpack dictionary\n",
    "my_dict = {'james':'harden', 'king':'lebron'}\n",
    "for val in my_dict.values():\n",
    "        print(val)"
   ]
  },
  {
   "cell_type": "code",
   "execution_count": 25,
   "metadata": {},
   "outputs": [
    {
     "name": "stdout",
     "output_type": "stream",
     "text": [
      "1\n",
      "2\n",
      "3\n",
      "4\n"
     ]
    }
   ],
   "source": [
    "# unpack list\n",
    "my_item = [[1, 2], [3, 4]]\n",
    "for a,b in my_item:\n",
    "    print(a)\n",
    "    print(b)"
   ]
  },
  {
   "cell_type": "markdown",
   "metadata": {},
   "source": [
    "#### range() method\n",
    "Method ini digunakan untuk melakukan iterasi sejumlah nilai yang diberikan pada parameternya. Untuk nilai variabel pencacah, nilai akhir akan bernilai jumlah iterasi yang dilakukan dikurangi satu."
   ]
  },
  {
   "cell_type": "code",
   "execution_count": 23,
   "metadata": {},
   "outputs": [
    {
     "name": "stdout",
     "output_type": "stream",
     "text": [
      "Hello World!\n",
      "0\n",
      "Hello World!\n",
      "1\n",
      "Hello World!\n",
      "2\n",
      "Hello World!\n",
      "3\n",
      "Hello World!\n",
      "4\n",
      "Hello World!\n",
      "5\n"
     ]
    }
   ],
   "source": [
    "for x in range(6):\n",
    "    print('Hello World!')\n",
    "    print(x)"
   ]
  },
  {
   "cell_type": "markdown",
   "metadata": {},
   "source": [
    "## While Loops"
   ]
  },
  {
   "cell_type": "code",
   "execution_count": null,
   "metadata": {},
   "outputs": [],
   "source": [
    "# While Loops Syntax\n",
    "while condition:\n",
    "    # do something"
   ]
  },
  {
   "cell_type": "code",
   "execution_count": 31,
   "metadata": {},
   "outputs": [
    {
     "name": "stdout",
     "output_type": "stream",
     "text": [
      "1\n",
      "2\n",
      "3\n",
      "4\n",
      "5\n",
      "Hey\n"
     ]
    }
   ],
   "source": [
    "i = 1\n",
    "while i<6:\n",
    "    print(i)\n",
    "    i+=1\n",
    "print('Hey')"
   ]
  },
  {
   "cell_type": "code",
   "execution_count": null,
   "metadata": {},
   "outputs": [],
   "source": []
  }
 ],
 "metadata": {
  "kernelspec": {
   "display_name": "Python 3",
   "language": "python",
   "name": "python3"
  },
  "language_info": {
   "codemirror_mode": {
    "name": "ipython",
    "version": 3
   },
   "file_extension": ".py",
   "mimetype": "text/x-python",
   "name": "python",
   "nbconvert_exporter": "python",
   "pygments_lexer": "ipython3",
   "version": "3.8.5"
  }
 },
 "nbformat": 4,
 "nbformat_minor": 4
}
