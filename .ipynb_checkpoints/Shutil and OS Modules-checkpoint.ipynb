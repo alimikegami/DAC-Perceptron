{
 "cells": [
  {
   "cell_type": "markdown",
   "metadata": {},
   "source": [
    "## Shutil and OS Modules"
   ]
  },
  {
   "cell_type": "code",
   "execution_count": 5,
   "metadata": {},
   "outputs": [],
   "source": [
    "# OS Modules can work on every operating system\n",
    "# OS Modules is used to list files in a directory or move files from a directory to another\n",
    "import os"
   ]
  },
  {
   "cell_type": "code",
   "execution_count": 8,
   "metadata": {},
   "outputs": [
    {
     "data": {
      "text/plain": [
       "'C:\\\\Users\\\\alimi\\\\My Python Stuff'"
      ]
     },
     "execution_count": 8,
     "metadata": {},
     "output_type": "execute_result"
    }
   ],
   "source": [
    "# get current working directory\n",
    "os.getcwd()"
   ]
  },
  {
   "cell_type": "code",
   "execution_count": 9,
   "metadata": {},
   "outputs": [
    {
     "data": {
      "text/plain": [
       "'C:\\\\Users\\\\alimi\\\\My Python Stuff'"
      ]
     },
     "execution_count": 9,
     "metadata": {},
     "output_type": "execute_result"
    }
   ],
   "source": [
    "pwd"
   ]
  },
  {
   "cell_type": "code",
   "execution_count": 11,
   "metadata": {},
   "outputs": [
    {
     "data": {
      "text/plain": [
       "['.ipynb_checkpoints',\n",
       " 'Blackjack.ipynb',\n",
       " 'Card Game.ipynb',\n",
       " 'Complete-Python-3-Bootcamp-master',\n",
       " 'Data Type & Data Structures.ipynb',\n",
       " 'File Handling.ipynb',\n",
       " 'Function.ipynb',\n",
       " 'Looping.ipynb',\n",
       " 'Modules and Packages.ipynb',\n",
       " 'Object Oriented Programming.ipynb',\n",
       " 'practice.txt',\n",
       " 'Python Collection Module.ipynb',\n",
       " 'Python Decorator.ipynb',\n",
       " 'Python Statement.ipynb',\n",
       " 'testFileHandling.txt',\n",
       " 'Tik Tak Toe.ipynb',\n",
       " 'Untitled.ipynb',\n",
       " 'Untitled1.ipynb',\n",
       " 'Useful Function.ipynb']"
      ]
     },
     "execution_count": 11,
     "metadata": {},
     "output_type": "execute_result"
    }
   ],
   "source": [
    "# list every file or directory in current working directory\n",
    "os.listdir()"
   ]
  },
  {
   "cell_type": "code",
   "execution_count": 13,
   "metadata": {},
   "outputs": [
    {
     "data": {
      "text/plain": [
       "['alimi',\n",
       " 'All Users',\n",
       " 'Default',\n",
       " 'Default User',\n",
       " 'defaultuser100000',\n",
       " 'defaultuser100001',\n",
       " 'desktop.ini',\n",
       " 'Public']"
      ]
     },
     "execution_count": 13,
     "metadata": {},
     "output_type": "execute_result"
    }
   ],
   "source": [
    "# Path can be given as a parameter to show every files or directories on that path\n",
    "os.listdir('C:\\\\Users')"
   ]
  },
  {
   "cell_type": "code",
   "execution_count": 15,
   "metadata": {},
   "outputs": [],
   "source": [
    "# shutil modules provides various functions that can be used on files and collection of files\n",
    "import shutil"
   ]
  },
  {
   "cell_type": "code",
   "execution_count": 19,
   "metadata": {},
   "outputs": [
    {
     "data": {
      "text/plain": [
       "'C:\\\\Users\\\\alimi\\\\practice.txt'"
      ]
     },
     "execution_count": 19,
     "metadata": {},
     "output_type": "execute_result"
    }
   ],
   "source": [
    "# move is similiar to mv command in Linux\n",
    "shutil.move('practice.txt', 'C:\\\\Users\\\\alimi')"
   ]
  },
  {
   "cell_type": "code",
   "execution_count": 20,
   "metadata": {},
   "outputs": [],
   "source": [
    "# send2trash modules is used to delete files and add it to recycle bin\n",
    "import send2trash"
   ]
  },
  {
   "cell_type": "code",
   "execution_count": 21,
   "metadata": {},
   "outputs": [
    {
     "data": {
      "text/plain": [
       "'C:\\\\Users\\\\alimi\\\\My Python Stuff\\\\practice.txt'"
      ]
     },
     "execution_count": 21,
     "metadata": {},
     "output_type": "execute_result"
    }
   ],
   "source": [
    "shutil.move('C:\\\\Users\\\\alimi\\\\practice.txt', 'C:\\\\Users\\\\alimi\\\\My Python Stuff')"
   ]
  },
  {
   "cell_type": "code",
   "execution_count": 22,
   "metadata": {},
   "outputs": [
    {
     "data": {
      "text/plain": [
       "['.ipynb_checkpoints',\n",
       " 'Blackjack.ipynb',\n",
       " 'Card Game.ipynb',\n",
       " 'Complete-Python-3-Bootcamp-master',\n",
       " 'Data Type & Data Structures.ipynb',\n",
       " 'File Handling.ipynb',\n",
       " 'Function.ipynb',\n",
       " 'Looping.ipynb',\n",
       " 'Modules and Packages.ipynb',\n",
       " 'Object Oriented Programming.ipynb',\n",
       " 'practice.txt',\n",
       " 'Python Collection Module.ipynb',\n",
       " 'Python Decorator.ipynb',\n",
       " 'Python Statement.ipynb',\n",
       " 'testFileHandling.txt',\n",
       " 'Tik Tak Toe.ipynb',\n",
       " 'Untitled.ipynb',\n",
       " 'Untitled1.ipynb',\n",
       " 'Useful Function.ipynb']"
      ]
     },
     "execution_count": 22,
     "metadata": {},
     "output_type": "execute_result"
    }
   ],
   "source": [
    "os.listdir()"
   ]
  },
  {
   "cell_type": "code",
   "execution_count": 23,
   "metadata": {},
   "outputs": [],
   "source": [
    "# Delete file and add it to the recycle bin\n",
    "send2trash.send2trash('practice.txt')"
   ]
  },
  {
   "cell_type": "code",
   "execution_count": 24,
   "metadata": {},
   "outputs": [
    {
     "data": {
      "text/plain": [
       "['.ipynb_checkpoints',\n",
       " 'Blackjack.ipynb',\n",
       " 'Card Game.ipynb',\n",
       " 'Complete-Python-3-Bootcamp-master',\n",
       " 'Data Type & Data Structures.ipynb',\n",
       " 'File Handling.ipynb',\n",
       " 'Function.ipynb',\n",
       " 'Looping.ipynb',\n",
       " 'Modules and Packages.ipynb',\n",
       " 'Object Oriented Programming.ipynb',\n",
       " 'Python Collection Module.ipynb',\n",
       " 'Python Decorator.ipynb',\n",
       " 'Python Statement.ipynb',\n",
       " 'testFileHandling.txt',\n",
       " 'Tik Tak Toe.ipynb',\n",
       " 'Untitled.ipynb',\n",
       " 'Untitled1.ipynb',\n",
       " 'Useful Function.ipynb']"
      ]
     },
     "execution_count": 24,
     "metadata": {},
     "output_type": "execute_result"
    }
   ],
   "source": [
    "os.listdir()"
   ]
  },
  {
   "cell_type": "code",
   "execution_count": 28,
   "metadata": {},
   "outputs": [
    {
     "name": "stdout",
     "output_type": "stream",
     "text": [
      "C:\\Users\\alimi\\My Python Stuff\\Complete-Python-3-Bootcamp-master\\12-Advanced Python Modules\\Example_Top_Level\n",
      "['Mid-Example-One']\n",
      "['Mid-Example.txt']\n",
      "C:\\Users\\alimi\\My Python Stuff\\Complete-Python-3-Bootcamp-master\\12-Advanced Python Modules\\Example_Top_Level\\Mid-Example-One\n",
      "['Bottom-Level-One', 'Bottom-Level-Two']\n",
      "['Mid-Level-Doc.txt']\n",
      "C:\\Users\\alimi\\My Python Stuff\\Complete-Python-3-Bootcamp-master\\12-Advanced Python Modules\\Example_Top_Level\\Mid-Example-One\\Bottom-Level-One\n",
      "[]\n",
      "['One_Text.txt']\n",
      "C:\\Users\\alimi\\My Python Stuff\\Complete-Python-3-Bootcamp-master\\12-Advanced Python Modules\\Example_Top_Level\\Mid-Example-One\\Bottom-Level-Two\n",
      "[]\n",
      "['Bottom-Text-Two.txt']\n"
     ]
    }
   ],
   "source": [
    "for current, directory, files in os.walk('C:\\\\Users\\\\alimi\\\\My Python Stuff\\\\Complete-Python-3-Bootcamp-master\\\\12-Advanced Python Modules\\\\Example_Top_Level'):\n",
    "    print(current)\n",
    "    print(directory)\n",
    "    print(files)"
   ]
  },
  {
   "cell_type": "code",
   "execution_count": null,
   "metadata": {},
   "outputs": [],
   "source": []
  }
 ],
 "metadata": {
  "kernelspec": {
   "display_name": "Python 3",
   "language": "python",
   "name": "python3"
  },
  "language_info": {
   "codemirror_mode": {
    "name": "ipython",
    "version": 3
   },
   "file_extension": ".py",
   "mimetype": "text/x-python",
   "name": "python",
   "nbconvert_exporter": "python",
   "pygments_lexer": "ipython3",
   "version": "3.8.5"
  }
 },
 "nbformat": 4,
 "nbformat_minor": 4
}
