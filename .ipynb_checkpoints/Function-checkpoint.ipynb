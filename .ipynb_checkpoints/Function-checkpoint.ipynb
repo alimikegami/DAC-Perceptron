{
 "cells": [
  {
   "cell_type": "markdown",
   "metadata": {},
   "source": [
    "# Python Function"
   ]
  },
  {
   "cell_type": "code",
   "execution_count": null,
   "metadata": {},
   "outputs": [],
   "source": [
    "# Syntax Function \n",
    "def nama_function():\n",
    "    # kode fungsi"
   ]
  },
  {
   "cell_type": "code",
   "execution_count": 4,
   "metadata": {},
   "outputs": [],
   "source": [
    "# Contoh function\n",
    "def sapa(nama):\n",
    "    print('Halo ' + nama + ', apa kabar?')"
   ]
  },
  {
   "cell_type": "code",
   "execution_count": 5,
   "metadata": {},
   "outputs": [
    {
     "name": "stdout",
     "output_type": "stream",
     "text": [
      "Halo Alim Ikegami, apa kabar?\n"
     ]
    }
   ],
   "source": [
    "sapa('Alim Ikegami')"
   ]
  },
  {
   "cell_type": "code",
   "execution_count": 8,
   "metadata": {},
   "outputs": [
    {
     "ename": "TypeError",
     "evalue": "sapa() missing 1 required positional argument: 'nama'",
     "output_type": "error",
     "traceback": [
      "\u001b[1;31m---------------------------------------------------------------------------\u001b[0m",
      "\u001b[1;31mTypeError\u001b[0m                                 Traceback (most recent call last)",
      "\u001b[1;32m<ipython-input-8-dc0a5ddf9ef9>\u001b[0m in \u001b[0;36m<module>\u001b[1;34m\u001b[0m\n\u001b[0;32m      1\u001b[0m \u001b[1;31m# Jika parameter tidak diberikan pada pemanggilan fungsi dengan parameter,\u001b[0m\u001b[1;33m\u001b[0m\u001b[1;33m\u001b[0m\u001b[1;33m\u001b[0m\u001b[0m\n\u001b[0;32m      2\u001b[0m \u001b[1;31m# maka proses pemanggilan akan gagal, Contoh:\u001b[0m\u001b[1;33m\u001b[0m\u001b[1;33m\u001b[0m\u001b[1;33m\u001b[0m\u001b[0m\n\u001b[1;32m----> 3\u001b[1;33m \u001b[0msapa\u001b[0m\u001b[1;33m(\u001b[0m\u001b[1;33m)\u001b[0m\u001b[1;33m\u001b[0m\u001b[1;33m\u001b[0m\u001b[0m\n\u001b[0m",
      "\u001b[1;31mTypeError\u001b[0m: sapa() missing 1 required positional argument: 'nama'"
     ]
    }
   ],
   "source": [
    "# Jika parameter tidak diberikan pada pemanggilan fungsi dengan parameter,\n",
    "# maka proses pemanggilan akan gagal, Contoh:\n",
    "sapa()"
   ]
  },
  {
   "cell_type": "markdown",
   "metadata": {},
   "source": [
    "## Default value pada parameter"
   ]
  },
  {
   "cell_type": "code",
   "execution_count": 10,
   "metadata": {},
   "outputs": [],
   "source": [
    "def sapa_seseorang(name = 'Default'):\n",
    "    print(f'Halo {name}, apa kabar?')"
   ]
  },
  {
   "cell_type": "code",
   "execution_count": 11,
   "metadata": {},
   "outputs": [
    {
     "name": "stdout",
     "output_type": "stream",
     "text": [
      "Halo Default, apa kabar?\n"
     ]
    }
   ],
   "source": [
    "sapa_seseorang()"
   ]
  },
  {
   "cell_type": "code",
   "execution_count": 12,
   "metadata": {},
   "outputs": [
    {
     "name": "stdout",
     "output_type": "stream",
     "text": [
      "Halo Alim Ikegami, apa kabar?\n"
     ]
    }
   ],
   "source": [
    "sapa_seseorang('Alim Ikegami')"
   ]
  },
  {
   "cell_type": "markdown",
   "metadata": {},
   "source": [
    "## Function dengan return value"
   ]
  },
  {
   "cell_type": "code",
   "execution_count": 15,
   "metadata": {},
   "outputs": [
    {
     "name": "stdout",
     "output_type": "stream",
     "text": [
      "Masukkan angka pertama: 4\n",
      "Masukkan angka kedua: 5\n",
      "Hasil penjumlahan 4 + 5 adalah 9\n"
     ]
    }
   ],
   "source": [
    "def tambah_nilai(num1, num2):\n",
    "    return num1 + num2\n",
    "\n",
    "angka1 = int(input('Masukkan angka pertama: '))\n",
    "angka2 = int(input('Masukkan angka kedua: '))\n",
    "\n",
    "hasil = tambah_nilai(angka1, angka2)\n",
    "print(f'Hasil penjumlahan {angka1} + {angka2} adalah {hasil}')"
   ]
  },
  {
   "cell_type": "markdown",
   "metadata": {},
   "source": [
    "## Function with logic"
   ]
  },
  {
   "cell_type": "code",
   "execution_count": 18,
   "metadata": {},
   "outputs": [
    {
     "name": "stdout",
     "output_type": "stream",
     "text": [
      "Masukkan angka: 4\n",
      "4 adalah bilangan genap!\n"
     ]
    }
   ],
   "source": [
    "def even_or_odd_num(num):\n",
    "    return num % 2 == 0\n",
    "\n",
    "angka = int(input('Masukkan angka: '))\n",
    "num_type = even_or_odd_num(angka)\n",
    "\n",
    "if num_type:\n",
    "    print(f'{angka} adalah bilangan genap!')\n",
    "else:\n",
    "    print(f'{angka} adalah bilangan ganjil!')"
   ]
  },
  {
   "cell_type": "code",
   "execution_count": 27,
   "metadata": {},
   "outputs": [
    {
     "name": "stdout",
     "output_type": "stream",
     "text": [
      "[10, 12]\n"
     ]
    }
   ],
   "source": [
    "def check_even_list(mylist):\n",
    "    even_number = []\n",
    "    for item in mylist:\n",
    "        if item % 2 == 0:\n",
    "            even_number.append(item)\n",
    "    return even_number\n",
    "        \n",
    "res = check_even_list([13, 7, 11, 10, 12])\n",
    "print(res)"
   ]
  },
  {
   "cell_type": "markdown",
   "metadata": {},
   "source": [
    "## Function with tuple unpacking"
   ]
  },
  {
   "cell_type": "code",
   "execution_count": 38,
   "metadata": {},
   "outputs": [
    {
     "name": "stdout",
     "output_type": "stream",
     "text": [
      "Employee of the year is Cassie with total of 800 work hours\n"
     ]
    }
   ],
   "source": [
    "def determine_employee_of_the_year(employees):\n",
    "    name = ''\n",
    "    hours = 0\n",
    "    for emp, workhours in employees:\n",
    "        if workhours > hours:\n",
    "            name = emp\n",
    "            hours = workhours\n",
    "    return (name, hours)\n",
    "\n",
    "work_hours = [('Abby', 100), ('Billy', 200), ('Cassie', 800)]\n",
    "# Tuple unpacking on function returns\n",
    "name, hours = determine_employee_of_the_year(work_hours)\n",
    "print(f'Employee of the year is {name} with total of {hours} work hours')"
   ]
  },
  {
   "cell_type": "markdown",
   "metadata": {},
   "source": [
    "## Function Interaction"
   ]
  },
  {
   "cell_type": "code",
   "execution_count": 45,
   "metadata": {},
   "outputs": [
    {
     "name": "stdout",
     "output_type": "stream",
     "text": [
      "Input tebakan (0, 1, 2): 1\n"
     ]
    },
    {
     "data": {
      "text/plain": [
       "False"
      ]
     },
     "execution_count": 45,
     "metadata": {},
     "output_type": "execute_result"
    }
   ],
   "source": [
    "from random import shuffle\n",
    "\n",
    "mylist = ['', 'O', '']\n",
    "\n",
    "def randomize_list(mylist):\n",
    "    shuffle(mylist)\n",
    "    return mylist\n",
    "\n",
    "def user_guess():\n",
    "    guess = ''\n",
    "    while guess not in [0, 1, 2]:\n",
    "        guess = int(input('Input tebakan (0, 1, 2): '))\n",
    "    return guess\n",
    "\n",
    "def guessing_game(mylist, user_guess):\n",
    "    return mylist[user_guess] == 'O'\n",
    "\n",
    "guessing_game(randomize_list(mylist), user_guess())"
   ]
  },
  {
   "cell_type": "code",
   "execution_count": 46,
   "metadata": {},
   "outputs": [
    {
     "data": {
      "text/plain": [
       "['O', '', '']"
      ]
     },
     "execution_count": 46,
     "metadata": {},
     "output_type": "execute_result"
    }
   ],
   "source": [
    "mylist"
   ]
  },
  {
   "cell_type": "code",
   "execution_count": null,
   "metadata": {},
   "outputs": [],
   "source": []
  }
 ],
 "metadata": {
  "kernelspec": {
   "display_name": "Python 3",
   "language": "python",
   "name": "python3"
  },
  "language_info": {
   "codemirror_mode": {
    "name": "ipython",
    "version": 3
   },
   "file_extension": ".py",
   "mimetype": "text/x-python",
   "name": "python",
   "nbconvert_exporter": "python",
   "pygments_lexer": "ipython3",
   "version": "3.8.5"
  }
 },
 "nbformat": 4,
 "nbformat_minor": 4
}
